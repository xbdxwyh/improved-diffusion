{
 "cells": [
  {
   "cell_type": "code",
   "execution_count": 1,
   "id": "b3a48f95",
   "metadata": {},
   "outputs": [],
   "source": [
    "from improved_diffusion import gaussian_diffusion"
   ]
  },
  {
   "cell_type": "code",
   "execution_count": null,
   "id": "fd4807b3",
   "metadata": {},
   "outputs": [],
   "source": []
  }
 ],
 "metadata": {
  "kernelspec": {
   "display_name": "Python 3 (ipykernel)",
   "language": "python",
   "name": "python3"
  },
  "language_info": {
   "codemirror_mode": {
    "name": "ipython",
    "version": 3
   },
   "file_extension": ".py",
   "mimetype": "text/x-python",
   "name": "python",
   "nbconvert_exporter": "python",
   "pygments_lexer": "ipython3",
   "version": "3.9.0"
  }
 },
 "nbformat": 4,
 "nbformat_minor": 5
}
